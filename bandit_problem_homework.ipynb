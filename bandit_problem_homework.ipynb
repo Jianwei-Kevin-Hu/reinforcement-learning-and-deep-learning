{
 "cells": [
  {
   "cell_type": "markdown",
   "metadata": {},
   "source": [
    "# Bandit Problems\n",
    "Jianwei Hu\n",
    "\n",
    "**1. import libraries**"
   ]
  },
  {
   "cell_type": "code",
   "execution_count": 1,
   "metadata": {},
   "outputs": [],
   "source": [
    "import numpy as np\n",
    "import matplotlib.pyplot as plt"
   ]
  },
  {
   "cell_type": "markdown",
   "metadata": {},
   "source": [
    "**2. Create **\n",
    "Cited from Thompson sampling notebook by Andre Cianflone and refactor it to dataset generator"
   ]
  },
  {
   "cell_type": "code",
   "execution_count": 4,
   "metadata": {},
   "outputs": [],
   "source": [
    "def generate_conversion_rates(number_of_slot_machines = 6,\n",
    "                         minimum_rate = 0.01, \n",
    "                         maximum_rate = 0.15):\n",
    "    return np.random.uniform(minimum_rate, \n",
    "                             maximum_rate, \n",
    "                             number_of_slot_machines)\n",
    "    "
   ]
  },
  {
   "cell_type": "code",
   "execution_count": 5,
   "metadata": {},
   "outputs": [
    {
     "name": "stdout",
     "output_type": "stream",
     "text": [
      "[0.09187933 0.10413712 0.108495   0.05204056 0.11387592 0.14714707]\n"
     ]
    }
   ],
   "source": [
    "print (generate_conversion_rates())"
   ]
  },
  {
   "cell_type": "code",
   "execution_count": null,
   "metadata": {},
   "outputs": [],
   "source": [
    "outcomes = np.zeros((number_of_turns, number_of_slot_machines)) #create a two-dimensional numpy array, and fill it with zeros\n",
    "for turn_index in range(number_of_turns): #for each turn\n",
    "    for slot_machine_index in range(number_of_slot_machines): #for each slot machine\n",
    "        #Get a random number between 0.0 and 1.0.\n",
    "        #If the random number is less than or equal to this slot machine's conversion rate, then set the outcome to \"1\".\n",
    "        #Otherwise, the outcome will be \"0\" because the entire matrix was initially filled with zeros.\n",
    "        if np.random.rand() <= conversion_rates[slot_machine_index]:\n",
    "            outcomes[turn_index][slot_machine_index] = 1\n",
    "\n",
    "#display the first 15 rows of data\n",
    "print(outcomes[0:15, 0:6]) #this sort of indexing means \"rows 0 to 14\" (i.e., the first 15 rows) and \"columns 0 through 5\" (i.e., the first six c"
   ]
  },
  {
   "cell_type": "code",
   "execution_count": 18,
   "metadata": {},
   "outputs": [],
   "source": [
    "def generate_outcomes(conversion_rates, number_of_turns = 1000):\n",
    "    number_of_slot_machines = len(conversion_rates)\n",
    "    outcomes = np.zeros((number_of_turns, number_of_slot_machines))\n",
    "    \n",
    "    for turn_index in range(number_of_turns):\n",
    "        for slot_machine_index in range(number_of_slot_machines):\n",
    "            if np.random.rand() <= conversion_rates[slot_machine_index]:\n",
    "                outcomes[turn_index][slot_machine_index] = 1\n",
    "            \n",
    "    return outcomes"
   ]
  },
  {
   "cell_type": "code",
   "execution_count": 19,
   "metadata": {},
   "outputs": [
    {
     "name": "stdout",
     "output_type": "stream",
     "text": [
      "[[0. 0. 0. 1. 0. 0.]\n",
      " [1. 0. 0. 0. 0. 0.]\n",
      " [0. 0. 0. 0. 1. 0.]\n",
      " [0. 0. 0. 0. 0. 0.]\n",
      " [0. 0. 0. 0. 0. 0.]\n",
      " [0. 0. 0. 0. 0. 0.]\n",
      " [0. 0. 1. 0. 0. 1.]\n",
      " [0. 0. 0. 0. 0. 0.]\n",
      " [0. 0. 0. 0. 1. 0.]\n",
      " [0. 0. 0. 0. 0. 0.]\n",
      " [0. 0. 0. 0. 0. 0.]\n",
      " [0. 0. 1. 0. 0. 0.]\n",
      " [0. 0. 0. 0. 0. 1.]\n",
      " [0. 0. 0. 0. 0. 0.]\n",
      " [0. 0. 0. 0. 0. 0.]]\n"
     ]
    }
   ],
   "source": [
    "print(generate_outcomes(generate_conversion_rate())[0:15, 0:6])"
   ]
  },
  {
   "cell_type": "code",
   "execution_count": null,
   "metadata": {},
   "outputs": [],
   "source": []
  }
 ],
 "metadata": {
  "kernelspec": {
   "display_name": "Python 3",
   "language": "python",
   "name": "python3"
  },
  "language_info": {
   "codemirror_mode": {
    "name": "ipython",
    "version": 3
   },
   "file_extension": ".py",
   "mimetype": "text/x-python",
   "name": "python",
   "nbconvert_exporter": "python",
   "pygments_lexer": "ipython3",
   "version": "3.8.3"
  }
 },
 "nbformat": 4,
 "nbformat_minor": 4
}
