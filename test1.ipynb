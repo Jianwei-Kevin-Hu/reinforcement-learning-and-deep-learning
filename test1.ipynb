{
 "cells": [
  {
   "cell_type": "markdown",
   "metadata": {},
   "source": [
    "# Bandit Problems\n",
    "Jianwei Hu\n",
    "\n",
    "**1. import libraries**"
   ]
  },
  {
   "cell_type": "code",
   "execution_count": null,
   "metadata": {},
   "outputs": [],
   "source": [
    "import numpy as np\n",
    "import matplotlib.pyplot as plt"
   ]
  },
  {
   "cell_type": "markdown",
   "metadata": {},
   "source": [
    "**2. Create **\n",
    "Cited from Thompson sampling notebook by Andre Cianflone and refactor it to dataset generator"
   ]
  },
  {
   "cell_type": "code",
   "execution_count": 11,
   "metadata": {},
   "outputs": [],
   "source": [
    "def conversion_rate_generator(number_of_slot_machines = 6,\n",
    "                         minimum_rate = 0.01, \n",
    "                         maximum_rate = 0.15):\n",
    "    return np.random.uniform(minimum_rate, \n",
    "                             maximum_rate, \n",
    "                             number_of_slot_machines)\n",
    "    "
   ]
  },
  {
   "cell_type": "code",
   "execution_count": 12,
   "metadata": {},
   "outputs": [
    {
     "name": "stdout",
     "output_type": "stream",
     "text": [
      "[0.01723911 0.02937547 0.09495418 0.07577599 0.07219008 0.07698728]\n"
     ]
    }
   ],
   "source": [
    "print (conversion_rate_generator())"
   ]
  },
  {
   "cell_type": "code",
   "execution_count": null,
   "metadata": {},
   "outputs": [],
   "source": []
  }
 ],
 "metadata": {
  "kernelspec": {
   "display_name": "Python 3",
   "language": "python",
   "name": "python3"
  },
  "language_info": {
   "codemirror_mode": {
    "name": "ipython",
    "version": 3
   },
   "file_extension": ".py",
   "mimetype": "text/x-python",
   "name": "python",
   "nbconvert_exporter": "python",
   "pygments_lexer": "ipython3",
   "version": "3.8.3"
  }
 },
 "nbformat": 4,
 "nbformat_minor": 4
}
